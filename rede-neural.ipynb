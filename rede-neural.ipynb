{
 "cells": [
  {
   "cell_type": "markdown",
   "metadata": {},
   "source": [
    "# Aula: Rede Neural do 0 aplicada a reconhecimento de imagens MNIST (números e letras à mão)"
   ]
  },
  {
   "cell_type": "markdown",
   "metadata": {},
   "source": [
    "### Requirements:"
   ]
  },
  {
   "cell_type": "code",
   "execution_count": 1,
   "metadata": {},
   "outputs": [],
   "source": [
    "import numpy as np\n",
    "import torch\n",
    "import torch.nn.functional as F\n",
    "import torchvision\n",
    "import matplotlib.pyplot as plt\n",
    "from time import time\n",
    "from torchvision import datasets, transforms\n",
    "from torch import nn, optim"
   ]
  },
  {
   "cell_type": "markdown",
   "metadata": {},
   "source": [
    "#### Torch + cuda:\n",
    "\n",
    "pip3 install torch torchvision torchaudio --index-url https://download.pytorch.org/whl/cu118"
   ]
  },
  {
   "cell_type": "markdown",
   "metadata": {},
   "source": [
    "### Definindo a conversão de imagens para tensores"
   ]
  },
  {
   "cell_type": "code",
   "execution_count": 2,
   "metadata": {},
   "outputs": [],
   "source": [
    "transform = transforms.ToTensor() # Define a conversão de imagens para tensores\n",
    "\n",
    "trainset = datasets.MNIST('./MNIST_data/', download=True, train=True, transform=transform) # Carrega a parte de treino do datasset\n",
    "trainloader = torch.utils.data.DataLoader(trainset,batch_size=64,shuffle=True) #Cria um buffer para pegar os dados por partes\n",
    "\n",
    "valset = datasets.MNIST('./MNIST_data/',download=True,train=False,transform=transform) #Carrega a parte de validação do datasset\n",
    "valloader = torch.utils.data.DataLoader(valset, batch_size=64, shuffle=True) # Cria um buffer para pegar os dados por partes"
   ]
  },
  {
   "cell_type": "markdown",
   "metadata": {},
   "source": [
    "#### Resultado:\n",
    "\n",
    "Cria pasta \"MNIST_data\", que contém os dados de treino e de validação importadas da lib de datassets do tochvision\n",
    "\n",
    "- DIO\n",
    "\n",
    "    |\n",
    "    - MNIS_data\n",
    "\n",
    "        |\n",
    "        - MNIST\n",
    "\n",
    "            |\n",
    "            - Raw"
   ]
  },
  {
   "cell_type": "markdown",
   "metadata": {},
   "source": [
    "### Verificar se a leitura da base de dados está correta:\n",
    "\n",
    "A função ```iter()``` em Python retorna um iterador para um objeto. Em Python, um iterador é um objeto que implementa os métodos ```__iter__()``` e ```__next__()```. O método ```__iter__()``` retorna o próprio objeto iterador, enquanto o método ```__next__()``` retorna o próximo elemento da sequência, ou levanta a exceção StopIteration se não houver mais elementos para serem retornados.\n",
    "\n",
    "No contexto do PyTorch e da classe DataLoader, a função ```iter()``` é frequentemente usada para criar um iterador a partir do DataLoader para iterar sobre os dados em batches. A iteração através do iterador é feita geralmente em um loop ```for```.\n",
    "\n",
    "Após isso é realizada uma iteração em cima desses dados iterados para extrair uma imagem e uma etiqueta dessa lista de imagens e logo em seguida utilizada a função ```imshow``` do ```matplotlib``` para mostrar uma visualização desses dados numéricos, o que mostra a imagem original."
   ]
  },
  {
   "cell_type": "code",
   "execution_count": 3,
   "metadata": {},
   "outputs": [
    {
     "data": {
      "text/plain": [
       "<matplotlib.image.AxesImage at 0x1aa0bd7fd90>"
      ]
     },
     "execution_count": 3,
     "metadata": {},
     "output_type": "execute_result"
    },
    {
     "data": {
      "image/png": "[encoded data removed]",
      "text/plain": [
       "<Figure size 640x480 with 1 Axes>"
      ]
     },
     "metadata": {},
     "output_type": "display_data"
    }
   ],
   "source": [
    "dataiter = iter(trainloader)\n",
    "\n",
    "for bach in dataiter:\n",
    "    imagens, etiquetas = bach\n",
    "\n",
    "plt.imshow(imagens[0].numpy().squeeze(),cmap='gray_r')"
   ]
  },
  {
   "cell_type": "markdown",
   "metadata": {},
   "source": [
    "#### Verificar tamanho do tensor que representa as imagens:"
   ]
  },
  {
   "cell_type": "code",
   "execution_count": 4,
   "metadata": {},
   "outputs": [
    {
     "name": "stdout",
     "output_type": "stream",
     "text": [
      "torch.Size([1, 28, 28])\n",
      "torch.Size([])\n"
     ]
    }
   ],
   "source": [
    "print(imagens[0].shape) # Verificar as dimensões do tensor de cada imagem\n",
    "print(etiquetas[0].shape) # Verificar as dimensões do tensor de cada etiqueta"
   ]
  },
  {
   "cell_type": "markdown",
   "metadata": {},
   "source": [
    "#### Implementando uma rede neural inceptionV3 no processo de reconhecimento do datasset até então carregado\n",
    "\n",
    "https://keras.io/api/applications/inceptionv3/"
   ]
  },
  {
   "cell_type": "code",
   "execution_count": 5,
   "metadata": {},
   "outputs": [],
   "source": [
    "class Modelo(nn.Module):\n",
    "    def __init__(self):\n",
    "        super(Modelo,self).__init__()\n",
    "        self.linear1 = nn.Linear(28*28,128) # Camada de entrada, 748 neurônios se ligam á 128\n",
    "        self.linear2 = nn.Linear(128,64) #camada interna 1, 128 neurônios se ligam á 24\n",
    "        self.linear3 = nn.Linear(64,10) #camada interna 2, 64 neurônios se ligam á 10\n",
    "        # para a camada de saída não é necessária definir nada pois só precisamos pegar a saída da camada interna 2\n",
    "\n",
    "    def forward(self,X):\n",
    "        X = F.relu(self.linear1(X)) # Função de ativação da camada de entrada para camada interna 1\n",
    "        X = F.relu(self.linear2(X)) # Função de ativação da camada interna 1 para camada interna 2\n",
    "        X = self.linear3(X) # Função de ativação da camada interna 2 para camada de saída, nesse caso f(x) = x\n",
    "        return F.log_softmax(X,dim=1) # Dados utilizados para calcular a perda"
   ]
  },
  {
   "cell_type": "markdown",
   "metadata": {},
   "source": [
    "#### Treinamento:\n",
    "\n",
    "_19:33_"
   ]
  },
  {
   "cell_type": "code",
   "execution_count": 6,
   "metadata": {},
   "outputs": [],
   "source": [
    "def treino(modelo,trainloader,device):\n",
    "    otimizador = optim.SGD(modelo.parameters(),lr=0.01,momentum=0.5) # define a politica de atualização dos pesos e das bias\n",
    "    inicio = time() # timer incial para sabermos quanto tempo levou o treino\n",
    "\n",
    "    criterio = nn.NLLLoss() # definindo o critério para calcular a perda\n",
    "    EPOCHS = 10 # numero de epochs que o algorítmo rodará\n",
    "    modelo.train() # ativando o modelo de treinamento\n",
    "\n",
    "    for epoch in range(EPOCHS):\n",
    "        perda_acumulada = 0  # inicialização da perda acumulada da epoch em questão\n",
    "\n",
    "        for imagens, etiquetas in trainloader:\n",
    "            \n",
    "            imagens = imagens.view(imagens.shape[0],-1) # convertento imagens para vetores de 28*28 casas\n",
    "            otimizador.zero_grad() # zerando os gradientes por conta do ciclo anterior\n",
    "\n",
    "            output = modelo(imagens.to(device)) # colocando os dados no modelo\n",
    "            perda_instantanea = criterio(output,etiquetas.to(device)) # calculando a perda da epoch em questão\n",
    "\n",
    "            perda_instantanea.backward() #back propagration a partir da perda\n",
    "\n",
    "            otimizador.step() # atualizando os pesos e bias\n",
    "\n",
    "            perda_acumulada += perda_instantanea.item() # atualização da perda acumulada\n",
    "\n",
    "        else:\n",
    "            print(\"EPOCH {} - Perda resultante: {}\".format(epoch+1,perda_acumulada/len(trainloader)))\n",
    "        print(\"\\nTempo de treino em minutos = \",(time()-inicio)/60)\n"
   ]
  },
  {
   "cell_type": "markdown",
   "metadata": {},
   "source": [
    "#### Validação:"
   ]
  },
  {
   "cell_type": "code",
   "execution_count": 7,
   "metadata": {},
   "outputs": [
    {
     "data": {
      "text/plain": [
       "Modelo(\n",
       "  (linear1): Linear(in_features=784, out_features=128, bias=True)\n",
       "  (linear2): Linear(in_features=128, out_features=64, bias=True)\n",
       "  (linear3): Linear(in_features=64, out_features=10, bias=True)\n",
       ")"
      ]
     },
     "execution_count": 7,
     "metadata": {},
     "output_type": "execute_result"
    }
   ],
   "source": [
    "modelo = Modelo()\n",
    "device =torch.device(\"cuda\" if torch.cuda.is_available() else \"cpu\") #redireciona o modelo se for GPU NVIDIA\n",
    "modelo.to(device)"
   ]
  },
  {
   "cell_type": "code",
   "execution_count": null,
   "metadata": {},
   "outputs": [],
   "source": []
  }
 ],
 "metadata": {
  "kernelspec": {
   "display_name": "Python 3",
   "language": "python",
   "name": "python3"
  },
  "language_info": {
   "codemirror_mode": {
    "name": "ipython",
    "version": 3
   },
   "file_extension": ".py",
   "mimetype": "text/x-python",
   "name": "python",
   "nbconvert_exporter": "python",
   "pygments_lexer": "ipython3",
   "version": "3.11.5"
  },
  "orig_nbformat": 4
 },
 "nbformat": 4,
 "nbformat_minor": 2
}
